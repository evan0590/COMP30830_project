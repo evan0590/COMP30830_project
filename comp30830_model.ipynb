{
 "cells": [
  {
   "cell_type": "markdown",
   "metadata": {},
   "source": [
    "## Reading Data"
   ]
  },
  {
   "cell_type": "code",
   "execution_count": 6,
   "metadata": {},
   "outputs": [],
   "source": [
    "# Library Imports.\n",
    "import operator\n",
    "\n",
    "import pandas as pd\n",
    "import matplotlib.pyplot as plt\n",
    "import numpy as np\n",
    "import seaborn as sns\n",
    "\n",
    "# Allows plots to appear directly in the notebook.\n",
    "%matplotlib inline\n",
    "\n",
    "from patsy import dmatrices\n",
    "from sklearn import linear_model\n",
    "from sklearn.linear_model import LinearRegression\n",
    "from sklearn.preprocessing import PolynomialFeatures\n",
    "from sklearn.model_selection import train_test_split\n",
    "from sklearn import metrics\n",
    "from sklearn.metrics import mean_squared_error, r2_score\n",
    "from sklearn.model_selection import cross_validate\n",
    "from sklearn.model_selection import cross_val_score\n",
    "from sklearn.utils import resample\n",
    "from sklearn.model_selection import KFold\n",
    "\n",
    "from scipy.optimize import curve_fit\n",
    "\n",
    "import sqlalchemy as sqla\n",
    "import pymysql\n",
    "from sqlalchemy import create_engine\n",
    "\n",
    "import csv\n",
    "import datetime as dt"
   ]
  },
  {
   "cell_type": "code",
   "execution_count": 7,
   "metadata": {},
   "outputs": [],
   "source": [
    "URI='database-comp30830.c2kwpm1jk01q.us-east-1.rds.amazonaws.com'\n",
    "PORT='3306'\n",
    "DB='comp30830_db'\n",
    "PASSWORD='Simple12'\n",
    "USER='admin'"
   ]
  },
  {
   "cell_type": "code",
   "execution_count": 8,
   "metadata": {},
   "outputs": [],
   "source": [
    "engine = create_engine(\"mysql+mysqldb://{}:{}@{}:{}/{}\".format(USER, PASSWORD,\n",
    "                                                              URI, PORT, DB), echo=True)"
   ]
  },
  {
   "cell_type": "code",
   "execution_count": 9,
   "metadata": {
    "scrolled": true
   },
   "outputs": [
    {
     "name": "stdout",
     "output_type": "stream",
     "text": [
      "2020-03-28 11:58:40,810 INFO sqlalchemy.engine.base.Engine SHOW VARIABLES LIKE 'sql_mode'\n",
      "2020-03-28 11:58:40,812 INFO sqlalchemy.engine.base.Engine ()\n",
      "2020-03-28 11:58:40,904 INFO sqlalchemy.engine.base.Engine SHOW VARIABLES LIKE 'lower_case_table_names'\n",
      "2020-03-28 11:58:40,904 INFO sqlalchemy.engine.base.Engine ()\n",
      "2020-03-28 11:58:41,088 INFO sqlalchemy.engine.base.Engine SELECT DATABASE()\n",
      "2020-03-28 11:58:41,089 INFO sqlalchemy.engine.base.Engine ()\n",
      "2020-03-28 11:58:41,271 INFO sqlalchemy.engine.base.Engine show collation where `Charset` = 'utf8mb4' and `Collation` = 'utf8mb4_bin'\n",
      "2020-03-28 11:58:41,274 INFO sqlalchemy.engine.base.Engine ()\n",
      "2020-03-28 11:58:41,368 INFO sqlalchemy.engine.base.Engine SELECT CAST('test plain returns' AS CHAR(60)) AS anon_1\n",
      "2020-03-28 11:58:41,368 INFO sqlalchemy.engine.base.Engine ()\n",
      "2020-03-28 11:58:41,460 INFO sqlalchemy.engine.base.Engine SELECT CAST('test unicode returns' AS CHAR(60)) AS anon_1\n",
      "2020-03-28 11:58:41,460 INFO sqlalchemy.engine.base.Engine ()\n",
      "2020-03-28 11:58:41,551 INFO sqlalchemy.engine.base.Engine SELECT CAST('test collated returns' AS CHAR CHARACTER SET utf8mb4) COLLATE utf8mb4_bin AS anon_1\n",
      "2020-03-28 11:58:41,552 INFO sqlalchemy.engine.base.Engine ()\n",
      "2020-03-28 11:58:41,827 INFO sqlalchemy.engine.base.Engine SHOW FULL TABLES FROM `comp30830_db`\n",
      "2020-03-28 11:58:41,829 INFO sqlalchemy.engine.base.Engine ()\n",
      "2020-03-28 11:58:41,927 INFO sqlalchemy.engine.base.Engine SHOW FULL TABLES FROM `comp30830_db`\n",
      "2020-03-28 11:58:41,927 INFO sqlalchemy.engine.base.Engine ()\n",
      "2020-03-28 11:58:42,028 INFO sqlalchemy.engine.base.Engine SHOW CREATE TABLE `live_bike_data`\n",
      "2020-03-28 11:58:42,028 INFO sqlalchemy.engine.base.Engine ()\n",
      "2020-03-28 11:58:42,217 INFO sqlalchemy.engine.base.Engine SELECT live_bike_data.`ID`, live_bike_data.`availableBikeStands`, live_bike_data.`availableBikes`, live_bike_data.date, live_bike_data.time, live_bike_data.day, live_bike_data.status, live_bike_data.epoch \n",
      "FROM live_bike_data\n",
      "2020-03-28 11:58:42,218 INFO sqlalchemy.engine.base.Engine ()\n"
     ]
    }
   ],
   "source": [
    "bikes=pd.read_sql_table('live_bike_data', engine)  "
   ]
  },
  {
   "cell_type": "code",
   "execution_count": 10,
   "metadata": {},
   "outputs": [],
   "source": [
    "# Make a new dataframe of this table\n",
    "bikes.to_csv('allBikes.csv', index=False)"
   ]
  },
  {
   "cell_type": "code",
   "execution_count": 11,
   "metadata": {},
   "outputs": [],
   "source": [
    "# Read csv file into a dataframe.\n",
    "bikes = pd.read_csv('allBikes.csv')"
   ]
  },
  {
   "cell_type": "code",
   "execution_count": 12,
   "metadata": {},
   "outputs": [
    {
     "name": "stdout",
     "output_type": "stream",
     "text": [
      "2020-03-28 11:59:11,746 INFO sqlalchemy.engine.base.Engine SHOW FULL TABLES FROM `comp30830_db`\n",
      "2020-03-28 11:59:11,747 INFO sqlalchemy.engine.base.Engine ()\n",
      "2020-03-28 11:59:11,839 INFO sqlalchemy.engine.base.Engine SHOW FULL TABLES FROM `comp30830_db`\n",
      "2020-03-28 11:59:11,839 INFO sqlalchemy.engine.base.Engine ()\n",
      "2020-03-28 11:59:11,930 INFO sqlalchemy.engine.base.Engine SHOW CREATE TABLE `live_weather_data`\n",
      "2020-03-28 11:59:11,931 INFO sqlalchemy.engine.base.Engine ()\n",
      "2020-03-28 11:59:12,120 INFO sqlalchemy.engine.base.Engine SELECT live_weather_data.number, live_weather_data.main, live_weather_data.description, live_weather_data.icon, live_weather_data.temp, live_weather_data.`tempMin`, live_weather_data.`tempMax`, live_weather_data.`tempFeels`, live_weather_data.humidity, live_weather_data.pressure, live_weather_data.`windSpeed`, live_weather_data.`windDeg`, live_weather_data.rain, live_weather_data.sunrise, live_weather_data.sunset, live_weather_data.date, live_weather_data.time, live_weather_data.day \n",
      "FROM live_weather_data\n",
      "2020-03-28 11:59:12,122 INFO sqlalchemy.engine.base.Engine ()\n"
     ]
    }
   ],
   "source": [
    "weather=pd.read_sql_table('live_weather_data', engine)  "
   ]
  },
  {
   "cell_type": "code",
   "execution_count": 13,
   "metadata": {},
   "outputs": [],
   "source": [
    "# Make a new dataframe of this table\n",
    "weather.to_csv('allWeather.csv', index=False)"
   ]
  },
  {
   "cell_type": "code",
   "execution_count": 14,
   "metadata": {},
   "outputs": [],
   "source": [
    "# Read csv file into a dataframe.\n",
    "weather = pd.read_csv('allWeather.csv')"
   ]
  },
  {
   "cell_type": "code",
   "execution_count": 15,
   "metadata": {},
   "outputs": [],
   "source": [
    "bikes['datetime'] = pd.to_datetime(bikes['date'] + ' ' + bikes['time'])\n",
    "weather['datetime'] = pd.to_datetime(weather['date'] + ' ' + weather['time'])"
   ]
  },
  {
   "cell_type": "code",
   "execution_count": 16,
   "metadata": {},
   "outputs": [],
   "source": [
    "bikes = bikes.sort_values(by='datetime')\n",
    "weather = weather.sort_values(by='datetime')"
   ]
  },
  {
   "cell_type": "markdown",
   "metadata": {},
   "source": [
    "## This can be used as a checkpoint, start from here if you want to run again without having to call from the database."
   ]
  },
  {
   "cell_type": "code",
   "execution_count": 17,
   "metadata": {},
   "outputs": [],
   "source": [
    "full_df = pd.merge_asof(bikes, weather, left_on=\"datetime\", right_on=\"datetime\",direction=\"nearest\")"
   ]
  },
  {
   "cell_type": "code",
   "execution_count": 18,
   "metadata": {
    "scrolled": false
   },
   "outputs": [
    {
     "data": {
      "text/html": [
       "<div>\n",
       "<style scoped>\n",
       "    .dataframe tbody tr th:only-of-type {\n",
       "        vertical-align: middle;\n",
       "    }\n",
       "\n",
       "    .dataframe tbody tr th {\n",
       "        vertical-align: top;\n",
       "    }\n",
       "\n",
       "    .dataframe thead th {\n",
       "        text-align: right;\n",
       "    }\n",
       "</style>\n",
       "<table border=\"1\" class=\"dataframe\">\n",
       "  <thead>\n",
       "    <tr style=\"text-align: right;\">\n",
       "      <th></th>\n",
       "      <th>ID</th>\n",
       "      <th>availableBikeStands</th>\n",
       "      <th>availableBikes</th>\n",
       "      <th>date_x</th>\n",
       "      <th>time_x</th>\n",
       "      <th>day_x</th>\n",
       "      <th>status</th>\n",
       "      <th>epoch</th>\n",
       "      <th>datetime</th>\n",
       "      <th>number</th>\n",
       "      <th>...</th>\n",
       "      <th>humidity</th>\n",
       "      <th>pressure</th>\n",
       "      <th>windSpeed</th>\n",
       "      <th>windDeg</th>\n",
       "      <th>rain</th>\n",
       "      <th>sunrise</th>\n",
       "      <th>sunset</th>\n",
       "      <th>date_y</th>\n",
       "      <th>time_y</th>\n",
       "      <th>day_y</th>\n",
       "    </tr>\n",
       "  </thead>\n",
       "  <tbody>\n",
       "    <tr>\n",
       "      <th>0</th>\n",
       "      <td>84</td>\n",
       "      <td>6</td>\n",
       "      <td>24</td>\n",
       "      <td>2020-02-18</td>\n",
       "      <td>19:54:59</td>\n",
       "      <td>Tue</td>\n",
       "      <td>OPEN</td>\n",
       "      <td>NaN</td>\n",
       "      <td>2020-02-18 19:54:59</td>\n",
       "      <td>802</td>\n",
       "      <td>...</td>\n",
       "      <td>72.0</td>\n",
       "      <td>1015.0</td>\n",
       "      <td>5.7</td>\n",
       "      <td>250.0</td>\n",
       "      <td>0.0</td>\n",
       "      <td>07:38:33</td>\n",
       "      <td>17:39:42</td>\n",
       "      <td>2020-02-18</td>\n",
       "      <td>22:00:01</td>\n",
       "      <td>Tue</td>\n",
       "    </tr>\n",
       "    <tr>\n",
       "      <th>1</th>\n",
       "      <td>67</td>\n",
       "      <td>21</td>\n",
       "      <td>19</td>\n",
       "      <td>2020-02-18</td>\n",
       "      <td>19:55:27</td>\n",
       "      <td>Tue</td>\n",
       "      <td>OPEN</td>\n",
       "      <td>NaN</td>\n",
       "      <td>2020-02-18 19:55:27</td>\n",
       "      <td>802</td>\n",
       "      <td>...</td>\n",
       "      <td>72.0</td>\n",
       "      <td>1015.0</td>\n",
       "      <td>5.7</td>\n",
       "      <td>250.0</td>\n",
       "      <td>0.0</td>\n",
       "      <td>07:38:33</td>\n",
       "      <td>17:39:42</td>\n",
       "      <td>2020-02-18</td>\n",
       "      <td>22:00:01</td>\n",
       "      <td>Tue</td>\n",
       "    </tr>\n",
       "    <tr>\n",
       "      <th>2</th>\n",
       "      <td>8</td>\n",
       "      <td>30</td>\n",
       "      <td>0</td>\n",
       "      <td>2020-02-18</td>\n",
       "      <td>19:55:35</td>\n",
       "      <td>Tue</td>\n",
       "      <td>OPEN</td>\n",
       "      <td>NaN</td>\n",
       "      <td>2020-02-18 19:55:35</td>\n",
       "      <td>802</td>\n",
       "      <td>...</td>\n",
       "      <td>72.0</td>\n",
       "      <td>1015.0</td>\n",
       "      <td>5.7</td>\n",
       "      <td>250.0</td>\n",
       "      <td>0.0</td>\n",
       "      <td>07:38:33</td>\n",
       "      <td>17:39:42</td>\n",
       "      <td>2020-02-18</td>\n",
       "      <td>22:00:01</td>\n",
       "      <td>Tue</td>\n",
       "    </tr>\n",
       "  </tbody>\n",
       "</table>\n",
       "<p>3 rows × 27 columns</p>\n",
       "</div>"
      ],
      "text/plain": [
       "   ID  availableBikeStands  availableBikes      date_x    time_x day_x status  \\\n",
       "0  84                    6              24  2020-02-18  19:54:59   Tue   OPEN   \n",
       "1  67                   21              19  2020-02-18  19:55:27   Tue   OPEN   \n",
       "2   8                   30               0  2020-02-18  19:55:35   Tue   OPEN   \n",
       "\n",
       "   epoch            datetime  number  ... humidity pressure windSpeed  \\\n",
       "0    NaN 2020-02-18 19:54:59     802  ...     72.0   1015.0       5.7   \n",
       "1    NaN 2020-02-18 19:55:27     802  ...     72.0   1015.0       5.7   \n",
       "2    NaN 2020-02-18 19:55:35     802  ...     72.0   1015.0       5.7   \n",
       "\n",
       "   windDeg  rain   sunrise    sunset      date_y    time_y  day_y  \n",
       "0    250.0   0.0  07:38:33  17:39:42  2020-02-18  22:00:01    Tue  \n",
       "1    250.0   0.0  07:38:33  17:39:42  2020-02-18  22:00:01    Tue  \n",
       "2    250.0   0.0  07:38:33  17:39:42  2020-02-18  22:00:01    Tue  \n",
       "\n",
       "[3 rows x 27 columns]"
      ]
     },
     "execution_count": 18,
     "metadata": {},
     "output_type": "execute_result"
    }
   ],
   "source": [
    "full_df.head(3)"
   ]
  },
  {
   "cell_type": "code",
   "execution_count": 19,
   "metadata": {},
   "outputs": [],
   "source": [
    "# constrict the dataframe to only those times in which the service is available to users.\n",
    "full_df = full_df.drop(full_df[(full_df.datetime.dt.hour > 0) & (full_df.datetime.dt.hour < 5)].index)"
   ]
  },
  {
   "cell_type": "code",
   "execution_count": 20,
   "metadata": {},
   "outputs": [],
   "source": [
    "## Create four each flags representing the stage of the day.\n",
    "morning_start = pd.to_datetime(\"05:00:00\").time()\n",
    "morning_end = pd.to_datetime(\"12:00:00\").time()\n",
    "afternoon_start = pd.to_datetime(\"12:01:00\").time()\n",
    "afternoon_end = pd.to_datetime(\"16:59:00\").time()\n",
    "evening_start = pd.to_datetime(\"17:00:00\").time()\n",
    "evening_end = pd.to_datetime(\"20:00:00\").time()\n",
    "night_start = pd.to_datetime(\"20:01:00\").time()\n",
    "night_end = pd.to_datetime(\"23:59:59\").time()"
   ]
  },
  {
   "cell_type": "code",
   "execution_count": 21,
   "metadata": {},
   "outputs": [],
   "source": [
    "full_df['morning'] = np.where((full_df['datetime'].dt.time > morning_start)\n",
    "                         & (full_df['datetime'].dt.time < morning_end),\n",
    "                         1, 0)\n",
    "\n",
    "full_df['afternoon'] = np.where((full_df['datetime'].dt.time > afternoon_start)\n",
    "                         & (full_df['datetime'].dt.time < afternoon_end),\n",
    "                         1, 0)\n",
    "\n",
    "full_df['evening'] = np.where((full_df['datetime'].dt.time > evening_start)\n",
    "                         & (full_df['datetime'].dt.time < evening_end),\n",
    "                         1, 0)\n",
    "\n",
    "full_df['night'] = np.where((full_df['datetime'].dt.time > night_start)\n",
    "                         & (full_df['datetime'].dt.time < night_end),\n",
    "                         1, 0)"
   ]
  },
  {
   "cell_type": "code",
   "execution_count": 22,
   "metadata": {},
   "outputs": [],
   "source": [
    "#replace days with numbers\n",
    "full_df[\"day_x\"].replace(['Mon','Tue','Wed','Thu','Fri','Sat','Sun'], [0,1,2,3,4,5,6], inplace=True)"
   ]
  },
  {
   "cell_type": "code",
   "execution_count": 23,
   "metadata": {},
   "outputs": [],
   "source": [
    "# create a time of day column, based on the hours of the day.\n",
    "full_df['tod'] = full_df.datetime.dt.hour"
   ]
  },
  {
   "cell_type": "markdown",
   "metadata": {},
   "source": [
    "- Observe the usage on a given weekday at a particular station:"
   ]
  },
  {
   "cell_type": "code",
   "execution_count": 24,
   "metadata": {},
   "outputs": [],
   "source": [
    "weekday_test_df = full_df.loc[(full_df['ID'] == 84) & (full_df['day_x'] == 2)]"
   ]
  },
  {
   "cell_type": "code",
   "execution_count": 25,
   "metadata": {
    "scrolled": true
   },
   "outputs": [
    {
     "data": {
      "text/plain": [
       "<matplotlib.axes._subplots.AxesSubplot at 0x1bcbe5f6c70>"
      ]
     },
     "execution_count": 25,
     "metadata": {},
     "output_type": "execute_result"
    },
    {
     "data": {
      "image/png": "[encoded data removed]",
      "text/plain": [
       "<Figure size 432x288 with 1 Axes>"
      ]
     },
     "metadata": {
      "needs_background": "light"
     },
     "output_type": "display_data"
    }
   ],
   "source": [
    "# First, plot the observed data\n",
    "weekday_test_df.plot(kind='scatter', x='tod', y='availableBikes')"
   ]
  },
  {
   "cell_type": "code",
   "execution_count": 26,
   "metadata": {},
   "outputs": [],
   "source": [
    "weekday_test_df = full_df.loc[(full_df['ID'] == 84) & (full_df['day_x'] == 4)]"
   ]
  },
  {
   "cell_type": "code",
   "execution_count": 27,
   "metadata": {},
   "outputs": [
    {
     "data": {
      "text/plain": [
       "<matplotlib.axes._subplots.AxesSubplot at 0x1bcbde585b0>"
      ]
     },
     "execution_count": 27,
     "metadata": {},
     "output_type": "execute_result"
    },
    {
     "data": {
      "image/png": "[encoded data removed]",
      "text/plain": [
       "<Figure size 432x288 with 1 Axes>"
      ]
     },
     "metadata": {
      "needs_background": "light"
     },
     "output_type": "display_data"
    }
   ],
   "source": [
    "weekday_test_df.plot(kind='scatter', x='tod', y='availableBikes')"
   ]
  },
  {
   "cell_type": "markdown",
   "metadata": {},
   "source": [
    "- Observe the usage on a given weekend day at the same station:"
   ]
  },
  {
   "cell_type": "code",
   "execution_count": 28,
   "metadata": {},
   "outputs": [],
   "source": [
    "weekend_test_df = full_df.loc[(full_df['ID'] == 84) & (full_df['day_x'] == 5)]"
   ]
  },
  {
   "cell_type": "code",
   "execution_count": 29,
   "metadata": {},
   "outputs": [
    {
     "data": {
      "text/plain": [
       "<matplotlib.axes._subplots.AxesSubplot at 0x1bcbdfcc430>"
      ]
     },
     "execution_count": 29,
     "metadata": {},
     "output_type": "execute_result"
    },
    {
     "data": {
      "image/png": "[encoded data removed]",
      "text/plain": [
       "<Figure size 432x288 with 1 Axes>"
      ]
     },
     "metadata": {
      "needs_background": "light"
     },
     "output_type": "display_data"
    }
   ],
   "source": [
    "# First, plot the observed data\n",
    "weekend_test_df.plot(kind='scatter', x='tod', y='availableBikes')"
   ]
  },
  {
   "cell_type": "markdown",
   "metadata": {},
   "source": [
    "### We can see two varying patterns for days of the week compared to days of the weekend; therefore two spearate models will be developed- one for Monday to Friday and another for Saturdays and Sundays."
   ]
  },
  {
   "cell_type": "code",
   "execution_count": 30,
   "metadata": {},
   "outputs": [],
   "source": [
    "#clouds\n",
    "full_df[\"number\"].replace([801,802,803,804], 'clouds', inplace=True)\n",
    "\n",
    "#clear\n",
    "full_df[\"number\"].replace([800], 'clear', inplace=True)\n",
    "\n",
    "#Atmosphere\n",
    "full_df[\"number\"].replace([701,711,721,731,741,751,761,762,771,781], 'Atmosphere', inplace=True)\n",
    "\n",
    "#snow\n",
    "full_df[\"number\"].replace([600,601,602,611,612,613,615,616,620,621,622], 'snow', inplace=True)\n",
    "\n",
    "#rain\n",
    "full_df[\"number\"].replace([500,501,502,503,504,511,520,521,522,531], 'rainfall', inplace=True)\n",
    "\n",
    "#drizzle\n",
    "full_df[\"number\"].replace([300,301,302,310,311,312,313,314,321], 'drizzle', inplace=True)\n",
    "\n",
    "#thunderstorm\n",
    "full_df[\"number\"].replace([200,201,202,210,211,212,221,230,231,232], 'thunderstorm', inplace=True)"
   ]
  },
  {
   "cell_type": "code",
   "execution_count": 31,
   "metadata": {},
   "outputs": [
    {
     "data": {
      "text/html": [
       "<div>\n",
       "<style scoped>\n",
       "    .dataframe tbody tr th:only-of-type {\n",
       "        vertical-align: middle;\n",
       "    }\n",
       "\n",
       "    .dataframe tbody tr th {\n",
       "        vertical-align: top;\n",
       "    }\n",
       "\n",
       "    .dataframe thead th {\n",
       "        text-align: right;\n",
       "    }\n",
       "</style>\n",
       "<table border=\"1\" class=\"dataframe\">\n",
       "  <thead>\n",
       "    <tr style=\"text-align: right;\">\n",
       "      <th></th>\n",
       "      <th>ID</th>\n",
       "      <th>availableBikeStands</th>\n",
       "      <th>availableBikes</th>\n",
       "      <th>date_x</th>\n",
       "      <th>time_x</th>\n",
       "      <th>day_x</th>\n",
       "      <th>status</th>\n",
       "      <th>epoch</th>\n",
       "      <th>datetime</th>\n",
       "      <th>number</th>\n",
       "      <th>...</th>\n",
       "      <th>sunrise</th>\n",
       "      <th>sunset</th>\n",
       "      <th>date_y</th>\n",
       "      <th>time_y</th>\n",
       "      <th>day_y</th>\n",
       "      <th>morning</th>\n",
       "      <th>afternoon</th>\n",
       "      <th>evening</th>\n",
       "      <th>night</th>\n",
       "      <th>tod</th>\n",
       "    </tr>\n",
       "  </thead>\n",
       "  <tbody>\n",
       "    <tr>\n",
       "      <th>0</th>\n",
       "      <td>84</td>\n",
       "      <td>6</td>\n",
       "      <td>24</td>\n",
       "      <td>2020-02-18</td>\n",
       "      <td>19:54:59</td>\n",
       "      <td>1</td>\n",
       "      <td>OPEN</td>\n",
       "      <td>NaN</td>\n",
       "      <td>2020-02-18 19:54:59</td>\n",
       "      <td>clouds</td>\n",
       "      <td>...</td>\n",
       "      <td>07:38:33</td>\n",
       "      <td>17:39:42</td>\n",
       "      <td>2020-02-18</td>\n",
       "      <td>22:00:01</td>\n",
       "      <td>Tue</td>\n",
       "      <td>0</td>\n",
       "      <td>0</td>\n",
       "      <td>1</td>\n",
       "      <td>0</td>\n",
       "      <td>19</td>\n",
       "    </tr>\n",
       "    <tr>\n",
       "      <th>1</th>\n",
       "      <td>67</td>\n",
       "      <td>21</td>\n",
       "      <td>19</td>\n",
       "      <td>2020-02-18</td>\n",
       "      <td>19:55:27</td>\n",
       "      <td>1</td>\n",
       "      <td>OPEN</td>\n",
       "      <td>NaN</td>\n",
       "      <td>2020-02-18 19:55:27</td>\n",
       "      <td>clouds</td>\n",
       "      <td>...</td>\n",
       "      <td>07:38:33</td>\n",
       "      <td>17:39:42</td>\n",
       "      <td>2020-02-18</td>\n",
       "      <td>22:00:01</td>\n",
       "      <td>Tue</td>\n",
       "      <td>0</td>\n",
       "      <td>0</td>\n",
       "      <td>1</td>\n",
       "      <td>0</td>\n",
       "      <td>19</td>\n",
       "    </tr>\n",
       "    <tr>\n",
       "      <th>2</th>\n",
       "      <td>8</td>\n",
       "      <td>30</td>\n",
       "      <td>0</td>\n",
       "      <td>2020-02-18</td>\n",
       "      <td>19:55:35</td>\n",
       "      <td>1</td>\n",
       "      <td>OPEN</td>\n",
       "      <td>NaN</td>\n",
       "      <td>2020-02-18 19:55:35</td>\n",
       "      <td>clouds</td>\n",
       "      <td>...</td>\n",
       "      <td>07:38:33</td>\n",
       "      <td>17:39:42</td>\n",
       "      <td>2020-02-18</td>\n",
       "      <td>22:00:01</td>\n",
       "      <td>Tue</td>\n",
       "      <td>0</td>\n",
       "      <td>0</td>\n",
       "      <td>1</td>\n",
       "      <td>0</td>\n",
       "      <td>19</td>\n",
       "    </tr>\n",
       "    <tr>\n",
       "      <th>3</th>\n",
       "      <td>106</td>\n",
       "      <td>20</td>\n",
       "      <td>20</td>\n",
       "      <td>2020-02-18</td>\n",
       "      <td>19:55:57</td>\n",
       "      <td>1</td>\n",
       "      <td>OPEN</td>\n",
       "      <td>NaN</td>\n",
       "      <td>2020-02-18 19:55:57</td>\n",
       "      <td>clouds</td>\n",
       "      <td>...</td>\n",
       "      <td>07:38:33</td>\n",
       "      <td>17:39:42</td>\n",
       "      <td>2020-02-18</td>\n",
       "      <td>22:00:01</td>\n",
       "      <td>Tue</td>\n",
       "      <td>0</td>\n",
       "      <td>0</td>\n",
       "      <td>1</td>\n",
       "      <td>0</td>\n",
       "      <td>19</td>\n",
       "    </tr>\n",
       "    <tr>\n",
       "      <th>4</th>\n",
       "      <td>36</td>\n",
       "      <td>38</td>\n",
       "      <td>0</td>\n",
       "      <td>2020-02-18</td>\n",
       "      <td>19:56:09</td>\n",
       "      <td>1</td>\n",
       "      <td>OPEN</td>\n",
       "      <td>NaN</td>\n",
       "      <td>2020-02-18 19:56:09</td>\n",
       "      <td>clouds</td>\n",
       "      <td>...</td>\n",
       "      <td>07:38:33</td>\n",
       "      <td>17:39:42</td>\n",
       "      <td>2020-02-18</td>\n",
       "      <td>22:00:01</td>\n",
       "      <td>Tue</td>\n",
       "      <td>0</td>\n",
       "      <td>0</td>\n",
       "      <td>1</td>\n",
       "      <td>0</td>\n",
       "      <td>19</td>\n",
       "    </tr>\n",
       "  </tbody>\n",
       "</table>\n",
       "<p>5 rows × 32 columns</p>\n",
       "</div>"
      ],
      "text/plain": [
       "    ID  availableBikeStands  availableBikes      date_x    time_x  day_x  \\\n",
       "0   84                    6              24  2020-02-18  19:54:59      1   \n",
       "1   67                   21              19  2020-02-18  19:55:27      1   \n",
       "2    8                   30               0  2020-02-18  19:55:35      1   \n",
       "3  106                   20              20  2020-02-18  19:55:57      1   \n",
       "4   36                   38               0  2020-02-18  19:56:09      1   \n",
       "\n",
       "  status  epoch            datetime  number  ...   sunrise    sunset  \\\n",
       "0   OPEN    NaN 2020-02-18 19:54:59  clouds  ...  07:38:33  17:39:42   \n",
       "1   OPEN    NaN 2020-02-18 19:55:27  clouds  ...  07:38:33  17:39:42   \n",
       "2   OPEN    NaN 2020-02-18 19:55:35  clouds  ...  07:38:33  17:39:42   \n",
       "3   OPEN    NaN 2020-02-18 19:55:57  clouds  ...  07:38:33  17:39:42   \n",
       "4   OPEN    NaN 2020-02-18 19:56:09  clouds  ...  07:38:33  17:39:42   \n",
       "\n",
       "       date_y    time_y  day_y  morning  afternoon  evening  night  tod  \n",
       "0  2020-02-18  22:00:01    Tue        0          0        1      0   19  \n",
       "1  2020-02-18  22:00:01    Tue        0          0        1      0   19  \n",
       "2  2020-02-18  22:00:01    Tue        0          0        1      0   19  \n",
       "3  2020-02-18  22:00:01    Tue        0          0        1      0   19  \n",
       "4  2020-02-18  22:00:01    Tue        0          0        1      0   19  \n",
       "\n",
       "[5 rows x 32 columns]"
      ]
     },
     "execution_count": 31,
     "metadata": {},
     "output_type": "execute_result"
    }
   ],
   "source": [
    "full_df.head()"
   ]
  },
  {
   "cell_type": "code",
   "execution_count": 32,
   "metadata": {},
   "outputs": [],
   "source": [
    "full_df.drop([\"date_x\",\"time_x\",\"status\", \"epoch\", \"main\",\n",
    "         \"description\",\"icon\", \"tempMin\", \"tempMax\", \"tempFeels\", \"humidity\",\n",
    "         \"pressure\", \"windSpeed\",\"windDeg\",\"sunrise\", \"sunset\",\n",
    "             \"date_y\",\"time_y\", \"day_y\"],axis=1,inplace=True)"
   ]
  },
  {
   "cell_type": "code",
   "execution_count": 33,
   "metadata": {},
   "outputs": [],
   "source": [
    "# add a flag that indicates whether a day is dry (has zero rain)\n",
    "full_df['dry_day'] = (full_df['rain'] == 0).astype(int)"
   ]
  },
  {
   "cell_type": "code",
   "execution_count": 34,
   "metadata": {},
   "outputs": [
    {
     "name": "stdout",
     "output_type": "stream",
     "text": [
      "Please enter a number to predict for either availableBikes - (0) or availableBikeStands - (1): 0\n"
     ]
    }
   ],
   "source": [
    "choice = int(input(\"Please enter a number to predict for either availableBikes - (0) or availableBikeStands - (1): \"))\n",
    "if choice == 0:\n",
    "    full_df = full_df.rename(columns={\"availableBikes\": \"target\"})\n",
    "    full_df.drop([\"availableBikeStands\"], axis=1,inplace=True)    \n",
    "else:\n",
    "    full_df = full_df.rename(columns={\"availableBikeStands\": \"target\"})\n",
    "    full_df.drop([\"availableBikes\"], axis=1,inplace=True)"
   ]
  },
  {
   "cell_type": "code",
   "execution_count": 35,
   "metadata": {},
   "outputs": [],
   "source": [
    "week_df = full_df.loc[(full_df['day_x'] >= 0) & (full_df['day_x'] <= 4)]"
   ]
  },
  {
   "cell_type": "code",
   "execution_count": 36,
   "metadata": {},
   "outputs": [],
   "source": [
    "weekend_df = full_df.loc[(full_df['day_x'] >= 5) & (full_df['day_x'] <= 6)]"
   ]
  },
  {
   "cell_type": "code",
   "execution_count": 37,
   "metadata": {},
   "outputs": [
    {
     "name": "stdout",
     "output_type": "stream",
     "text": [
      "Please enter station ID: 13\n",
      "Please choose to predict for week - (0) or weekend - (1): 0\n"
     ]
    }
   ],
   "source": [
    "station = int(input(\"Please enter station ID: \"))\n",
    "week_or_weekend = int(input(\"Please choose to predict for week - (0) or weekend - (1): \"))\n",
    "# bikes_or_stands = int(input(\"Please choose to predict either availableBikeStands(0) or availableBikes(1): \"))\n",
    "# Constrain df to a single station on a single day\n",
    "if week_or_weekend == 0:\n",
    "    new_df = week_df.loc[(week_df.ID == station)]\n",
    "else:\n",
    "    new_df = weekend_df.loc[(weekend_df.ID == station)]\n",
    "\n",
    "# Constrain df to a single station on a single day\n",
    "# new_df = full_df.loc[(full_df['ID'] == station) & (full_df['day_x'] == day)]"
   ]
  },
  {
   "cell_type": "code",
   "execution_count": 38,
   "metadata": {},
   "outputs": [
    {
     "name": "stderr",
     "output_type": "stream",
     "text": [
      "C:\\Users\\mrric\\Anaconda3\\envs\\comp30830\\lib\\site-packages\\pandas\\core\\frame.py:3990: SettingWithCopyWarning: \n",
      "A value is trying to be set on a copy of a slice from a DataFrame\n",
      "\n",
      "See the caveats in the documentation: https://pandas.pydata.org/pandas-docs/stable/user_guide/indexing.html#returning-a-view-versus-a-copy\n",
      "  return super().drop(\n"
     ]
    }
   ],
   "source": [
    "## Dropping all columns not necessary for predictive model.\n",
    "new_df.drop([\"ID\", \"datetime\"], axis=1,inplace=True)"
   ]
  },
  {
   "cell_type": "code",
   "execution_count": 39,
   "metadata": {},
   "outputs": [],
   "source": [
    "# Make a new dataframe of this station\n",
    "new_df.to_csv('comp303830_model_multipleLinearRegression.csv', index=False)"
   ]
  },
  {
   "cell_type": "code",
   "execution_count": 40,
   "metadata": {},
   "outputs": [],
   "source": [
    "# Read csv file into a dataframe.\n",
    "df = pd.read_csv('comp303830_model_multipleLinearRegression.csv')"
   ]
  },
  {
   "cell_type": "code",
   "execution_count": 41,
   "metadata": {},
   "outputs": [
    {
     "data": {
      "text/html": [
       "<div>\n",
       "<style scoped>\n",
       "    .dataframe tbody tr th:only-of-type {\n",
       "        vertical-align: middle;\n",
       "    }\n",
       "\n",
       "    .dataframe tbody tr th {\n",
       "        vertical-align: top;\n",
       "    }\n",
       "\n",
       "    .dataframe thead th {\n",
       "        text-align: right;\n",
       "    }\n",
       "</style>\n",
       "<table border=\"1\" class=\"dataframe\">\n",
       "  <thead>\n",
       "    <tr style=\"text-align: right;\">\n",
       "      <th></th>\n",
       "      <th>target</th>\n",
       "      <th>day_x</th>\n",
       "      <th>number</th>\n",
       "      <th>temp</th>\n",
       "      <th>rain</th>\n",
       "      <th>morning</th>\n",
       "      <th>afternoon</th>\n",
       "      <th>evening</th>\n",
       "      <th>night</th>\n",
       "      <th>tod</th>\n",
       "      <th>dry_day</th>\n",
       "    </tr>\n",
       "  </thead>\n",
       "  <tbody>\n",
       "    <tr>\n",
       "      <th>0</th>\n",
       "      <td>0</td>\n",
       "      <td>1</td>\n",
       "      <td>clouds</td>\n",
       "      <td>2.0</td>\n",
       "      <td>0.0</td>\n",
       "      <td>0</td>\n",
       "      <td>0</td>\n",
       "      <td>1</td>\n",
       "      <td>0</td>\n",
       "      <td>19</td>\n",
       "      <td>1</td>\n",
       "    </tr>\n",
       "    <tr>\n",
       "      <th>1</th>\n",
       "      <td>0</td>\n",
       "      <td>1</td>\n",
       "      <td>clouds</td>\n",
       "      <td>2.0</td>\n",
       "      <td>0.0</td>\n",
       "      <td>0</td>\n",
       "      <td>0</td>\n",
       "      <td>0</td>\n",
       "      <td>1</td>\n",
       "      <td>20</td>\n",
       "      <td>1</td>\n",
       "    </tr>\n",
       "    <tr>\n",
       "      <th>2</th>\n",
       "      <td>0</td>\n",
       "      <td>1</td>\n",
       "      <td>clouds</td>\n",
       "      <td>2.0</td>\n",
       "      <td>0.0</td>\n",
       "      <td>0</td>\n",
       "      <td>0</td>\n",
       "      <td>0</td>\n",
       "      <td>1</td>\n",
       "      <td>20</td>\n",
       "      <td>1</td>\n",
       "    </tr>\n",
       "  </tbody>\n",
       "</table>\n",
       "</div>"
      ],
      "text/plain": [
       "   target  day_x  number  temp  rain  morning  afternoon  evening  night  tod  \\\n",
       "0       0      1  clouds   2.0   0.0        0          0        1      0   19   \n",
       "1       0      1  clouds   2.0   0.0        0          0        0      1   20   \n",
       "2       0      1  clouds   2.0   0.0        0          0        0      1   20   \n",
       "\n",
       "   dry_day  \n",
       "0        1  \n",
       "1        1  \n",
       "2        1  "
      ]
     },
     "execution_count": 41,
     "metadata": {},
     "output_type": "execute_result"
    }
   ],
   "source": [
    "df.head(3)"
   ]
  },
  {
   "cell_type": "code",
   "execution_count": 42,
   "metadata": {},
   "outputs": [
    {
     "data": {
      "text/plain": [
       "10.0"
      ]
     },
     "execution_count": 42,
     "metadata": {},
     "output_type": "execute_result"
    }
   ],
   "source": [
    "# Print the average target(availableBikes/availableBikeStands) in our dataset.\n",
    "# We could use this as a very simple baseline prediction model.\n",
    "# A better prediction model should at least improve on this baseline model.\n",
    "round(df.target.mean())"
   ]
  },
  {
   "cell_type": "markdown",
   "metadata": {},
   "source": [
    "### Observing the data:\n",
    "- Trying to find correlations between continuous data and the target feature:"
   ]
  },
  {
   "cell_type": "code",
   "execution_count": 43,
   "metadata": {},
   "outputs": [
    {
     "data": {
      "text/plain": [
       "<matplotlib.axes._subplots.AxesSubplot at 0x1bcbe47bdf0>"
      ]
     },
     "execution_count": 43,
     "metadata": {},
     "output_type": "execute_result"
    },
    {
     "data": {
      "image/png": "[encoded data removed]",
      "text/plain": [
       "<Figure size 432x288 with 1 Axes>"
      ]
     },
     "metadata": {
      "needs_background": "light"
     },
     "output_type": "display_data"
    }
   ],
   "source": [
    "# First, plot the observed data\n",
    "df.plot(kind='scatter', x='rain', y='target')"
   ]
  },
  {
   "cell_type": "code",
   "execution_count": 44,
   "metadata": {},
   "outputs": [
    {
     "data": {
      "text/plain": [
       "<matplotlib.axes._subplots.AxesSubplot at 0x1bcc978bcd0>"
      ]
     },
     "execution_count": 44,
     "metadata": {},
     "output_type": "execute_result"
    },
    {
     "data": {
      "image/png": "[encoded data removed]",
      "text/plain": [
       "<Figure size 432x288 with 1 Axes>"
      ]
     },
     "metadata": {
      "needs_background": "light"
     },
     "output_type": "display_data"
    }
   ],
   "source": [
    "# First, plot the observed data\n",
    "df.plot(kind='scatter', x='temp', y='target')"
   ]
  },
  {
   "cell_type": "markdown",
   "metadata": {},
   "source": [
    "- There does not appear to be a clear correlation between the target feature and the continuous data"
   ]
  },
  {
   "cell_type": "code",
   "execution_count": 45,
   "metadata": {},
   "outputs": [],
   "source": [
    "## Keep these lists for later.\n",
    "## Will be used below.\n",
    "x_list = df.tod.tolist()\n",
    "y_list = df.target.tolist()"
   ]
  },
  {
   "cell_type": "code",
   "execution_count": 46,
   "metadata": {},
   "outputs": [],
   "source": [
    "## Keep this pandas series for later.\n",
    "## Will be used below.\n",
    "tod_placeholder = df[['tod']]"
   ]
  },
  {
   "cell_type": "markdown",
   "metadata": {},
   "source": [
    "# Training with continuous and categorical features"
   ]
  },
  {
   "cell_type": "code",
   "execution_count": 47,
   "metadata": {},
   "outputs": [],
   "source": [
    "#replace days with numbers\n",
    "df[\"day_x\"].replace([0,1,2,3,4,5,6], ['Mon','Tue','Wed','Thu','Fri','Sat','Sun'], inplace=True)"
   ]
  },
  {
   "cell_type": "code",
   "execution_count": 48,
   "metadata": {},
   "outputs": [],
   "source": [
    "#We can also do this directly for all categorical features\n",
    "df = pd.get_dummies(df, drop_first=True)"
   ]
  },
  {
   "cell_type": "code",
   "execution_count": 49,
   "metadata": {},
   "outputs": [],
   "source": [
    "# Input features must exclude the target feature\n",
    "column_names = list(df.columns)[1:]"
   ]
  },
  {
   "cell_type": "code",
   "execution_count": 50,
   "metadata": {},
   "outputs": [],
   "source": [
    "X = df[column_names]\n",
    "y = df.target"
   ]
  },
  {
   "cell_type": "code",
   "execution_count": 51,
   "metadata": {},
   "outputs": [],
   "source": [
    "# drop_first = True removes multi-collinearity\n",
    "add_var = pd.get_dummies(X['tod'], prefix='tod', drop_first=True)\n",
    "# Add all the columns to the model data\n",
    "X = X.join(add_var)\n",
    "# Drop the original column that was expanded\n",
    "X.drop(columns=['tod'], inplace=True)"
   ]
  },
  {
   "cell_type": "code",
   "execution_count": 52,
   "metadata": {
    "scrolled": false
   },
   "outputs": [
    {
     "data": {
      "text/html": [
       "<div>\n",
       "<style scoped>\n",
       "    .dataframe tbody tr th:only-of-type {\n",
       "        vertical-align: middle;\n",
       "    }\n",
       "\n",
       "    .dataframe tbody tr th {\n",
       "        vertical-align: top;\n",
       "    }\n",
       "\n",
       "    .dataframe thead th {\n",
       "        text-align: right;\n",
       "    }\n",
       "</style>\n",
       "<table border=\"1\" class=\"dataframe\">\n",
       "  <thead>\n",
       "    <tr style=\"text-align: right;\">\n",
       "      <th></th>\n",
       "      <th>temp</th>\n",
       "      <th>rain</th>\n",
       "      <th>morning</th>\n",
       "      <th>afternoon</th>\n",
       "      <th>evening</th>\n",
       "      <th>night</th>\n",
       "      <th>dry_day</th>\n",
       "      <th>day_x_Mon</th>\n",
       "      <th>day_x_Thu</th>\n",
       "      <th>day_x_Tue</th>\n",
       "      <th>...</th>\n",
       "      <th>tod_14</th>\n",
       "      <th>tod_15</th>\n",
       "      <th>tod_16</th>\n",
       "      <th>tod_17</th>\n",
       "      <th>tod_18</th>\n",
       "      <th>tod_19</th>\n",
       "      <th>tod_20</th>\n",
       "      <th>tod_21</th>\n",
       "      <th>tod_22</th>\n",
       "      <th>tod_23</th>\n",
       "    </tr>\n",
       "  </thead>\n",
       "  <tbody>\n",
       "    <tr>\n",
       "      <th>0</th>\n",
       "      <td>2.0</td>\n",
       "      <td>0.0</td>\n",
       "      <td>0</td>\n",
       "      <td>0</td>\n",
       "      <td>1</td>\n",
       "      <td>0</td>\n",
       "      <td>1</td>\n",
       "      <td>0</td>\n",
       "      <td>0</td>\n",
       "      <td>1</td>\n",
       "      <td>...</td>\n",
       "      <td>0</td>\n",
       "      <td>0</td>\n",
       "      <td>0</td>\n",
       "      <td>0</td>\n",
       "      <td>0</td>\n",
       "      <td>1</td>\n",
       "      <td>0</td>\n",
       "      <td>0</td>\n",
       "      <td>0</td>\n",
       "      <td>0</td>\n",
       "    </tr>\n",
       "    <tr>\n",
       "      <th>1</th>\n",
       "      <td>2.0</td>\n",
       "      <td>0.0</td>\n",
       "      <td>0</td>\n",
       "      <td>0</td>\n",
       "      <td>0</td>\n",
       "      <td>1</td>\n",
       "      <td>1</td>\n",
       "      <td>0</td>\n",
       "      <td>0</td>\n",
       "      <td>1</td>\n",
       "      <td>...</td>\n",
       "      <td>0</td>\n",
       "      <td>0</td>\n",
       "      <td>0</td>\n",
       "      <td>0</td>\n",
       "      <td>0</td>\n",
       "      <td>0</td>\n",
       "      <td>1</td>\n",
       "      <td>0</td>\n",
       "      <td>0</td>\n",
       "      <td>0</td>\n",
       "    </tr>\n",
       "    <tr>\n",
       "      <th>2</th>\n",
       "      <td>2.0</td>\n",
       "      <td>0.0</td>\n",
       "      <td>0</td>\n",
       "      <td>0</td>\n",
       "      <td>0</td>\n",
       "      <td>1</td>\n",
       "      <td>1</td>\n",
       "      <td>0</td>\n",
       "      <td>0</td>\n",
       "      <td>1</td>\n",
       "      <td>...</td>\n",
       "      <td>0</td>\n",
       "      <td>0</td>\n",
       "      <td>0</td>\n",
       "      <td>0</td>\n",
       "      <td>0</td>\n",
       "      <td>0</td>\n",
       "      <td>1</td>\n",
       "      <td>0</td>\n",
       "      <td>0</td>\n",
       "      <td>0</td>\n",
       "    </tr>\n",
       "    <tr>\n",
       "      <th>3</th>\n",
       "      <td>2.0</td>\n",
       "      <td>0.0</td>\n",
       "      <td>0</td>\n",
       "      <td>0</td>\n",
       "      <td>0</td>\n",
       "      <td>1</td>\n",
       "      <td>1</td>\n",
       "      <td>0</td>\n",
       "      <td>0</td>\n",
       "      <td>1</td>\n",
       "      <td>...</td>\n",
       "      <td>0</td>\n",
       "      <td>0</td>\n",
       "      <td>0</td>\n",
       "      <td>0</td>\n",
       "      <td>0</td>\n",
       "      <td>0</td>\n",
       "      <td>1</td>\n",
       "      <td>0</td>\n",
       "      <td>0</td>\n",
       "      <td>0</td>\n",
       "    </tr>\n",
       "    <tr>\n",
       "      <th>4</th>\n",
       "      <td>2.0</td>\n",
       "      <td>0.0</td>\n",
       "      <td>0</td>\n",
       "      <td>0</td>\n",
       "      <td>0</td>\n",
       "      <td>1</td>\n",
       "      <td>1</td>\n",
       "      <td>0</td>\n",
       "      <td>0</td>\n",
       "      <td>1</td>\n",
       "      <td>...</td>\n",
       "      <td>0</td>\n",
       "      <td>0</td>\n",
       "      <td>0</td>\n",
       "      <td>0</td>\n",
       "      <td>0</td>\n",
       "      <td>0</td>\n",
       "      <td>1</td>\n",
       "      <td>0</td>\n",
       "      <td>0</td>\n",
       "      <td>0</td>\n",
       "    </tr>\n",
       "  </tbody>\n",
       "</table>\n",
       "<p>5 rows × 34 columns</p>\n",
       "</div>"
      ],
      "text/plain": [
       "   temp  rain  morning  afternoon  evening  night  dry_day  day_x_Mon  \\\n",
       "0   2.0   0.0        0          0        1      0        1          0   \n",
       "1   2.0   0.0        0          0        0      1        1          0   \n",
       "2   2.0   0.0        0          0        0      1        1          0   \n",
       "3   2.0   0.0        0          0        0      1        1          0   \n",
       "4   2.0   0.0        0          0        0      1        1          0   \n",
       "\n",
       "   day_x_Thu  day_x_Tue  ...  tod_14  tod_15  tod_16  tod_17  tod_18  tod_19  \\\n",
       "0          0          1  ...       0       0       0       0       0       1   \n",
       "1          0          1  ...       0       0       0       0       0       0   \n",
       "2          0          1  ...       0       0       0       0       0       0   \n",
       "3          0          1  ...       0       0       0       0       0       0   \n",
       "4          0          1  ...       0       0       0       0       0       0   \n",
       "\n",
       "   tod_20  tod_21  tod_22  tod_23  \n",
       "0       0       0       0       0  \n",
       "1       1       0       0       0  \n",
       "2       1       0       0       0  \n",
       "3       1       0       0       0  \n",
       "4       1       0       0       0  \n",
       "\n",
       "[5 rows x 34 columns]"
      ]
     },
     "execution_count": 52,
     "metadata": {},
     "output_type": "execute_result"
    }
   ],
   "source": [
    "X.head()"
   ]
  },
  {
   "cell_type": "code",
   "execution_count": 53,
   "metadata": {},
   "outputs": [],
   "source": [
    "# Drop any rows with null values\n",
    "df.dropna(axis=0, how='any', inplace=True)\n",
    "\n",
    "model = LinearRegression(fit_intercept=False)\n",
    "model.fit(X, y)\n",
    "df['predicted'] = model.predict(X)"
   ]
  },
  {
   "cell_type": "code",
   "execution_count": 54,
   "metadata": {},
   "outputs": [],
   "source": [
    "#This function is used repeatedly to compute all metrics\n",
    "def printMetrics(testActualVal, predictions):\n",
    "    #classification evaluation measures\n",
    "    print('\\n==============================================================================')\n",
    "    print(\"MAE: \", metrics.mean_absolute_error(testActualVal, predictions))\n",
    "    #print(\"MSE: \", metrics.mean_squared_error(testActualVal, predictions))\n",
    "    print(\"RMSE: \", metrics.mean_squared_error(testActualVal, predictions)**0.5)\n",
    "    print(\"R2: \", metrics.r2_score(testActualVal, predictions))"
   ]
  },
  {
   "cell_type": "code",
   "execution_count": 55,
   "metadata": {},
   "outputs": [
    {
     "name": "stdout",
     "output_type": "stream",
     "text": [
      "\n",
      "==============================================================================\n",
      "MAE:  4.432976117077636\n",
      "RMSE:  5.376704667149429\n",
      "R2:  0.620305402830249\n"
     ]
    }
   ],
   "source": [
    "printMetrics(y, model.predict(X))"
   ]
  },
  {
   "cell_type": "code",
   "execution_count": 56,
   "metadata": {
    "scrolled": false
   },
   "outputs": [
    {
     "data": {
      "text/plain": [
       "<matplotlib.axes._subplots.AxesSubplot at 0x1bcc58c5490>"
      ]
     },
     "execution_count": 56,
     "metadata": {},
     "output_type": "execute_result"
    },
    {
     "data": {
      "image/png": "[encoded data removed]",
      "text/plain": [
       "<Figure size 1440x360 with 1 Axes>"
      ]
     },
     "metadata": {
      "needs_background": "light"
     },
     "output_type": "display_data"
    }
   ],
   "source": [
    "df[['target', 'predicted']].plot(alpha=0.5, figsize=(20, 5))"
   ]
  },
  {
   "cell_type": "markdown",
   "metadata": {},
   "source": [
    "<ref: https://jakevdp.github.io/PythonDataScienceHandbook/05.06-linear-regression.html >"
   ]
  },
  {
   "cell_type": "code",
   "execution_count": 57,
   "metadata": {},
   "outputs": [
    {
     "data": {
      "text/html": [
       "<div>\n",
       "<style scoped>\n",
       "    .dataframe tbody tr th:only-of-type {\n",
       "        vertical-align: middle;\n",
       "    }\n",
       "\n",
       "    .dataframe tbody tr th {\n",
       "        vertical-align: top;\n",
       "    }\n",
       "\n",
       "    .dataframe thead th {\n",
       "        text-align: right;\n",
       "    }\n",
       "</style>\n",
       "<table border=\"1\" class=\"dataframe\">\n",
       "  <thead>\n",
       "    <tr style=\"text-align: right;\">\n",
       "      <th></th>\n",
       "      <th>target</th>\n",
       "      <th>temp</th>\n",
       "      <th>rain</th>\n",
       "      <th>morning</th>\n",
       "      <th>afternoon</th>\n",
       "      <th>evening</th>\n",
       "      <th>night</th>\n",
       "      <th>tod</th>\n",
       "      <th>dry_day</th>\n",
       "      <th>day_x_Mon</th>\n",
       "      <th>day_x_Thu</th>\n",
       "      <th>day_x_Tue</th>\n",
       "      <th>day_x_Wed</th>\n",
       "      <th>number_clear</th>\n",
       "      <th>number_clouds</th>\n",
       "      <th>number_drizzle</th>\n",
       "      <th>number_rainfall</th>\n",
       "      <th>predicted</th>\n",
       "    </tr>\n",
       "  </thead>\n",
       "  <tbody>\n",
       "    <tr>\n",
       "      <th>0</th>\n",
       "      <td>0</td>\n",
       "      <td>2.0</td>\n",
       "      <td>0.0</td>\n",
       "      <td>0</td>\n",
       "      <td>0</td>\n",
       "      <td>1</td>\n",
       "      <td>0</td>\n",
       "      <td>19</td>\n",
       "      <td>1</td>\n",
       "      <td>0</td>\n",
       "      <td>0</td>\n",
       "      <td>1</td>\n",
       "      <td>0</td>\n",
       "      <td>0</td>\n",
       "      <td>1</td>\n",
       "      <td>0</td>\n",
       "      <td>0</td>\n",
       "      <td>5.878382</td>\n",
       "    </tr>\n",
       "    <tr>\n",
       "      <th>1</th>\n",
       "      <td>0</td>\n",
       "      <td>2.0</td>\n",
       "      <td>0.0</td>\n",
       "      <td>0</td>\n",
       "      <td>0</td>\n",
       "      <td>0</td>\n",
       "      <td>1</td>\n",
       "      <td>20</td>\n",
       "      <td>1</td>\n",
       "      <td>0</td>\n",
       "      <td>0</td>\n",
       "      <td>1</td>\n",
       "      <td>0</td>\n",
       "      <td>0</td>\n",
       "      <td>1</td>\n",
       "      <td>0</td>\n",
       "      <td>0</td>\n",
       "      <td>5.705237</td>\n",
       "    </tr>\n",
       "    <tr>\n",
       "      <th>2</th>\n",
       "      <td>0</td>\n",
       "      <td>2.0</td>\n",
       "      <td>0.0</td>\n",
       "      <td>0</td>\n",
       "      <td>0</td>\n",
       "      <td>0</td>\n",
       "      <td>1</td>\n",
       "      <td>20</td>\n",
       "      <td>1</td>\n",
       "      <td>0</td>\n",
       "      <td>0</td>\n",
       "      <td>1</td>\n",
       "      <td>0</td>\n",
       "      <td>0</td>\n",
       "      <td>1</td>\n",
       "      <td>0</td>\n",
       "      <td>0</td>\n",
       "      <td>5.705237</td>\n",
       "    </tr>\n",
       "    <tr>\n",
       "      <th>3</th>\n",
       "      <td>0</td>\n",
       "      <td>2.0</td>\n",
       "      <td>0.0</td>\n",
       "      <td>0</td>\n",
       "      <td>0</td>\n",
       "      <td>0</td>\n",
       "      <td>1</td>\n",
       "      <td>20</td>\n",
       "      <td>1</td>\n",
       "      <td>0</td>\n",
       "      <td>0</td>\n",
       "      <td>1</td>\n",
       "      <td>0</td>\n",
       "      <td>0</td>\n",
       "      <td>1</td>\n",
       "      <td>0</td>\n",
       "      <td>0</td>\n",
       "      <td>5.705237</td>\n",
       "    </tr>\n",
       "    <tr>\n",
       "      <th>4</th>\n",
       "      <td>0</td>\n",
       "      <td>2.0</td>\n",
       "      <td>0.0</td>\n",
       "      <td>0</td>\n",
       "      <td>0</td>\n",
       "      <td>0</td>\n",
       "      <td>1</td>\n",
       "      <td>20</td>\n",
       "      <td>1</td>\n",
       "      <td>0</td>\n",
       "      <td>0</td>\n",
       "      <td>1</td>\n",
       "      <td>0</td>\n",
       "      <td>0</td>\n",
       "      <td>1</td>\n",
       "      <td>0</td>\n",
       "      <td>0</td>\n",
       "      <td>5.705237</td>\n",
       "    </tr>\n",
       "  </tbody>\n",
       "</table>\n",
       "</div>"
      ],
      "text/plain": [
       "   target  temp  rain  morning  afternoon  evening  night  tod  dry_day  \\\n",
       "0       0   2.0   0.0        0          0        1      0   19        1   \n",
       "1       0   2.0   0.0        0          0        0      1   20        1   \n",
       "2       0   2.0   0.0        0          0        0      1   20        1   \n",
       "3       0   2.0   0.0        0          0        0      1   20        1   \n",
       "4       0   2.0   0.0        0          0        0      1   20        1   \n",
       "\n",
       "   day_x_Mon  day_x_Thu  day_x_Tue  day_x_Wed  number_clear  number_clouds  \\\n",
       "0          0          0          1          0             0              1   \n",
       "1          0          0          1          0             0              1   \n",
       "2          0          0          1          0             0              1   \n",
       "3          0          0          1          0             0              1   \n",
       "4          0          0          1          0             0              1   \n",
       "\n",
       "   number_drizzle  number_rainfall  predicted  \n",
       "0               0                0   5.878382  \n",
       "1               0                0   5.705237  \n",
       "2               0                0   5.705237  \n",
       "3               0                0   5.705237  \n",
       "4               0                0   5.705237  "
      ]
     },
     "execution_count": 57,
     "metadata": {},
     "output_type": "execute_result"
    }
   ],
   "source": [
    "df.head()"
   ]
  },
  {
   "cell_type": "markdown",
   "metadata": {},
   "source": [
    "## Document here on the errors between the predicted and actual values. The model, while not perfect, will suffice for the time being anyway."
   ]
  },
  {
   "cell_type": "code",
   "execution_count": 58,
   "metadata": {},
   "outputs": [
    {
     "data": {
      "text/plain": [
       "temp               -0.316135\n",
       "rain               -0.631697\n",
       "morning             6.927658\n",
       "afternoon           3.372730\n",
       "evening             2.179554\n",
       "night               0.585211\n",
       "dry_day            -0.777161\n",
       "day_x_Mon           3.181740\n",
       "day_x_Thu           1.804614\n",
       "day_x_Tue           4.335050\n",
       "day_x_Wed           1.466118\n",
       "number_clear        3.457427\n",
       "number_clouds       2.057744\n",
       "number_drizzle      5.545833\n",
       "number_rainfall     4.446798\n",
       "tod_5              -6.320116\n",
       "tod_6              -5.775118\n",
       "tod_7              -4.825815\n",
       "tod_8              -1.988358\n",
       "tod_9               6.721698\n",
       "tod_10              9.243698\n",
       "tod_11              9.871669\n",
       "tod_12             13.868634\n",
       "tod_13             12.957703\n",
       "tod_14             12.714015\n",
       "tod_15             12.467261\n",
       "tod_16             10.765902\n",
       "tod_17              4.172411\n",
       "tod_18             -0.708323\n",
       "tod_19             -1.284535\n",
       "tod_20              0.136663\n",
       "tod_21              0.192025\n",
       "tod_22              0.128988\n",
       "tod_23              0.127535\n",
       "dtype: float64"
      ]
     },
     "execution_count": 58,
     "metadata": {},
     "output_type": "execute_result"
    }
   ],
   "source": [
    "params = pd.Series(model.coef_, index=X.columns)\n",
    "params"
   ]
  },
  {
   "cell_type": "code",
   "execution_count": 59,
   "metadata": {},
   "outputs": [],
   "source": [
    "from sklearn.utils import resample\n",
    "np.random.seed(1)\n",
    "err = np.std([model.fit(*resample(X, y)).coef_\n",
    "              for i in range(1000)], 0)"
   ]
  },
  {
   "cell_type": "code",
   "execution_count": 60,
   "metadata": {
    "scrolled": true
   },
   "outputs": [
    {
     "name": "stdout",
     "output_type": "stream",
     "text": [
      "                 effect  error\n",
      "temp               -0.0    0.0\n",
      "rain               -1.0    0.0\n",
      "morning             7.0    0.0\n",
      "afternoon           3.0    1.0\n",
      "evening             2.0    0.0\n",
      "night               1.0    0.0\n",
      "dry_day            -1.0    0.0\n",
      "day_x_Mon           3.0    0.0\n",
      "day_x_Thu           2.0    0.0\n",
      "day_x_Tue           4.0    0.0\n",
      "day_x_Wed           1.0    0.0\n",
      "number_clear        3.0    1.0\n",
      "number_clouds       2.0    0.0\n",
      "number_drizzle      6.0    1.0\n",
      "number_rainfall     4.0    0.0\n",
      "tod_5              -6.0    0.0\n",
      "tod_6              -6.0    0.0\n",
      "tod_7              -5.0    0.0\n",
      "tod_8              -2.0    0.0\n",
      "tod_9               7.0    0.0\n",
      "tod_10              9.0    0.0\n",
      "tod_11             10.0    0.0\n",
      "tod_12             14.0    1.0\n",
      "tod_13             13.0    1.0\n",
      "tod_14             13.0    1.0\n",
      "tod_15             12.0    1.0\n",
      "tod_16             11.0    1.0\n",
      "tod_17              4.0    0.0\n",
      "tod_18             -1.0    0.0\n",
      "tod_19             -1.0    0.0\n",
      "tod_20              0.0    0.0\n",
      "tod_21              0.0    0.0\n",
      "tod_22              0.0    0.0\n",
      "tod_23              0.0    0.0\n"
     ]
    }
   ],
   "source": [
    "print(pd.DataFrame({'effect': params.round(0),\n",
    "                    'error': err.round(0)}))"
   ]
  },
  {
   "cell_type": "markdown",
   "metadata": {},
   "source": [
    "<ref: https://becominghuman.ai/linear-regression-in-python-with-pandas-scikit-learn-72574a2ec1a5 >"
   ]
  },
  {
   "cell_type": "markdown",
   "metadata": {},
   "source": [
    "##  Linear regression with nonlinear data: sidebar - we will not actually be using this model due to time constraints faced with implementing it."
   ]
  },
  {
   "cell_type": "code",
   "execution_count": 61,
   "metadata": {},
   "outputs": [
    {
     "data": {
      "image/png": "[encoded data removed]",
      "text/plain": [
       "<Figure size 432x288 with 1 Axes>"
      ]
     },
     "metadata": {
      "needs_background": "light"
     },
     "output_type": "display_data"
    }
   ],
   "source": [
    "x = np.asarray(x_list)\n",
    "y_new = np.asarray(y_list)\n",
    "plt.scatter(x, y_new);"
   ]
  },
  {
   "cell_type": "code",
   "execution_count": 62,
   "metadata": {},
   "outputs": [
    {
     "data": {
      "image/png": "[encoded data removed]",
      "text/plain": [
       "<Figure size 432x288 with 1 Axes>"
      ]
     },
     "metadata": {
      "needs_background": "light"
     },
     "output_type": "display_data"
    }
   ],
   "source": [
    "model = LinearRegression(fit_intercept=True)\n",
    "\n",
    "model.fit(x[:, np.newaxis], y_new)\n",
    "\n",
    "xfit = np.linspace(0, 24, 1000)\n",
    "yfit = model.predict(xfit[:, np.newaxis])\n",
    "\n",
    "plt.scatter(x, y_new)\n",
    "plt.plot(xfit, yfit);"
   ]
  },
  {
   "cell_type": "code",
   "execution_count": 63,
   "metadata": {},
   "outputs": [
    {
     "name": "stdout",
     "output_type": "stream",
     "text": [
      "Model slope:     -0.165660447575731\n",
      "Model intercept: 11.974519191748872\n"
     ]
    }
   ],
   "source": [
    "print(\"Model slope:    \", model.coef_[0])\n",
    "print(\"Model intercept:\", model.intercept_)"
   ]
  },
  {
   "cell_type": "code",
   "execution_count": 64,
   "metadata": {},
   "outputs": [],
   "source": [
    "# transforming the data to include another axis\n",
    "x = x[:, np.newaxis]\n",
    "y_new = y_new[:, np.newaxis]"
   ]
  },
  {
   "cell_type": "code",
   "execution_count": 65,
   "metadata": {},
   "outputs": [
    {
     "name": "stdout",
     "output_type": "stream",
     "text": [
      "Root Mean Square Error:  7.24132027866874\n",
      "Coefficient of Determination (R2):  0.31128813320612236\n"
     ]
    }
   ],
   "source": [
    "polynomial_features= PolynomialFeatures(degree=2)\n",
    "x_poly = polynomial_features.fit_transform(x)\n",
    "\n",
    "model = LinearRegression()\n",
    "model.fit(x_poly, y_new)\n",
    "y_poly_pred = model.predict(x_poly)\n",
    "\n",
    "rmse = np.sqrt(mean_squared_error(y_new,y_poly_pred))\n",
    "r2 = r2_score(y_new,y_poly_pred)\n",
    "print(\"Root Mean Square Error: \", rmse)\n",
    "print(\"Coefficient of Determination (R2): \", r2)"
   ]
  },
  {
   "cell_type": "code",
   "execution_count": 66,
   "metadata": {},
   "outputs": [
    {
     "data": {
      "image/png": "[encoded data removed]",
      "text/plain": [
       "<Figure size 432x288 with 1 Axes>"
      ]
     },
     "metadata": {
      "needs_background": "light"
     },
     "output_type": "display_data"
    }
   ],
   "source": [
    "plt.scatter(x, y_new, s=10)\n",
    "# sort the values of x before line plot\n",
    "sort_axis = operator.itemgetter(0)\n",
    "sorted_zip = sorted(zip(x,y_poly_pred), key=sort_axis)\n",
    "x, y_poly_pred = zip(*sorted_zip)\n",
    "plt.plot(x, y_poly_pred, color='m')\n",
    "plt.show()"
   ]
  },
  {
   "cell_type": "markdown",
   "metadata": {},
   "source": [
    "# Explore this one more time before submitting."
   ]
  },
  {
   "cell_type": "markdown",
   "metadata": {},
   "source": [
    "<ref: https://jakevdp.github.io/PythonDataScienceHandbook/05.06-linear-regression.html >"
   ]
  },
  {
   "cell_type": "markdown",
   "metadata": {},
   "source": [
    "# Evaluation with train/test split"
   ]
  },
  {
   "cell_type": "code",
   "execution_count": 67,
   "metadata": {},
   "outputs": [],
   "source": [
    "# Split the data into train and test sets\n",
    "# Take a third (random) data samples as test data, rest as training data\n",
    "X_train, X_test, y_train, y_test = train_test_split(X, y, test_size=0.3)\n",
    "# If we want to get the same train/test split every time we run, we can set the random_state variable to a fixed value\n",
    "# X_train, X_test, y_train, y_test = train_test_split(X, y, test_size=0.3, random_state=0)\n",
    "\n",
    "# print(\"Training data:\\n\", pd.concat([X_train, y_train], axis=1))\n",
    "# print(\"\\nTest data:\\n\", pd.concat([X_test, y_test], axis=1))"
   ]
  },
  {
   "cell_type": "code",
   "execution_count": 68,
   "metadata": {},
   "outputs": [],
   "source": [
    "features = list(df.columns)[1:]"
   ]
  },
  {
   "cell_type": "code",
   "execution_count": 69,
   "metadata": {},
   "outputs": [
    {
     "name": "stdout",
     "output_type": "stream",
     "text": [
      "Features and coeficients: [('temp', -0.3135515872779868), ('rain', -0.8378523997516656), ('morning', 6.107036844303681), ('afternoon', 3.9001885988681084), ('evening', 1.6155941354047978), ('night', 0.01230018432703775), ('tod', -1.5382932760716819), ('dry_day', 3.3205092151151554), ('day_x_Mon', 1.6869834080655874), ('day_x_Thu', 4.440770738757687), ('day_x_Tue', 1.2895869379771676), ('day_x_Wed', 2.0631984849400884), ('number_clear', 0.6145140758858872), ('number_clouds', 3.573975067247713), ('number_drizzle', 2.499270972668275), ('number_rainfall', -6.517606877830661), ('predicted', -5.536207968886492)]\n"
     ]
    }
   ],
   "source": [
    "# Train on the training sample and test on the test sample.\n",
    "linreg = LinearRegression().fit(X_train, y_train)\n",
    "# Print the weights learned for each feature.\n",
    "#print(linreg_train.coef_)\n",
    "print(\"Features and coeficients:\", list(zip(features, linreg.coef_)))"
   ]
  },
  {
   "cell_type": "code",
   "execution_count": 70,
   "metadata": {},
   "outputs": [
    {
     "name": "stdout",
     "output_type": "stream",
     "text": [
      "\n",
      "==============================================================================\n",
      "MAE:  4.460669899074248\n",
      "RMSE:  5.401942612155674\n",
      "R2:  0.6172331680480241\n"
     ]
    }
   ],
   "source": [
    "# Predicted bikes on training set\n",
    "train_predictions = linreg.predict(X_train)\n",
    "# print(\"Actual values of training:\\n\", y_train)\n",
    "# print(\"Predictions on training:\", train_predictions)\n",
    "printMetrics(y_train, train_predictions)"
   ]
  },
  {
   "cell_type": "code",
   "execution_count": 71,
   "metadata": {},
   "outputs": [
    {
     "name": "stdout",
     "output_type": "stream",
     "text": [
      "\n",
      "==============================================================================\n",
      "MAE:  4.34604949508095\n",
      "RMSE:  5.311377868546095\n",
      "R2:  0.6283181412592873\n"
     ]
    }
   ],
   "source": [
    "# Predicted bikes on test set\n",
    "test_predictions = linreg.predict(X_test)\n",
    "# print(\"Actual values of test:\\n\", y_test)\n",
    "# print(\"Predictions on test:\", test_predictions)\n",
    "printMetrics(y_test, test_predictions)"
   ]
  },
  {
   "cell_type": "markdown",
   "metadata": {},
   "source": [
    "# Evaluation with cross-validation"
   ]
  },
  {
   "cell_type": "code",
   "execution_count": 72,
   "metadata": {},
   "outputs": [
    {
     "data": {
      "text/plain": [
       "['accuracy',\n",
       " 'adjusted_mutual_info_score',\n",
       " 'adjusted_rand_score',\n",
       " 'average_precision',\n",
       " 'balanced_accuracy',\n",
       " 'completeness_score',\n",
       " 'explained_variance',\n",
       " 'f1',\n",
       " 'f1_macro',\n",
       " 'f1_micro',\n",
       " 'f1_samples',\n",
       " 'f1_weighted',\n",
       " 'fowlkes_mallows_score',\n",
       " 'homogeneity_score',\n",
       " 'jaccard',\n",
       " 'jaccard_macro',\n",
       " 'jaccard_micro',\n",
       " 'jaccard_samples',\n",
       " 'jaccard_weighted',\n",
       " 'max_error',\n",
       " 'mutual_info_score',\n",
       " 'neg_brier_score',\n",
       " 'neg_log_loss',\n",
       " 'neg_mean_absolute_error',\n",
       " 'neg_mean_gamma_deviance',\n",
       " 'neg_mean_poisson_deviance',\n",
       " 'neg_mean_squared_error',\n",
       " 'neg_mean_squared_log_error',\n",
       " 'neg_median_absolute_error',\n",
       " 'neg_root_mean_squared_error',\n",
       " 'normalized_mutual_info_score',\n",
       " 'precision',\n",
       " 'precision_macro',\n",
       " 'precision_micro',\n",
       " 'precision_samples',\n",
       " 'precision_weighted',\n",
       " 'r2',\n",
       " 'recall',\n",
       " 'recall_macro',\n",
       " 'recall_micro',\n",
       " 'recall_samples',\n",
       " 'recall_weighted',\n",
       " 'roc_auc',\n",
       " 'roc_auc_ovo',\n",
       " 'roc_auc_ovo_weighted',\n",
       " 'roc_auc_ovr',\n",
       " 'roc_auc_ovr_weighted',\n",
       " 'v_measure_score']"
      ]
     },
     "execution_count": 72,
     "metadata": {},
     "output_type": "execute_result"
    }
   ],
   "source": [
    "sorted(metrics.SCORERS.keys())"
   ]
  },
  {
   "cell_type": "code",
   "execution_count": 73,
   "metadata": {},
   "outputs": [
    {
     "data": {
      "text/plain": [
       "array([4.36276399, 4.90247381, 5.76332289, 5.42752222, 6.48920846])"
      ]
     },
     "execution_count": 73,
     "metadata": {},
     "output_type": "execute_result"
    }
   ],
   "source": [
    "scores = -cross_val_score(LinearRegression(), X, y, scoring='neg_mean_absolute_error', cv=5)\n",
    "scores"
   ]
  },
  {
   "cell_type": "code",
   "execution_count": 74,
   "metadata": {},
   "outputs": [
    {
     "data": {
      "text/plain": [
       "{'fit_time': array([0.00398898, 0.00398898, 0.00498724, 0.004987  , 0.00299335]),\n",
       " 'score_time': array([0.00099778, 0.00199485, 0.00199389, 0.00099683, 0.00099826]),\n",
       " 'test_neg_mean_absolute_error': array([-4.36276399, -4.90247381, -5.76332289, -5.42752222, -6.48920846]),\n",
       " 'test_neg_mean_squared_error': array([-25.36503086, -36.39035799, -48.56689807, -51.0602848 ,\n",
       "        -49.23846336]),\n",
       " 'test_r2': array([ 0.76045165,  0.66762505,  0.57100091, -1.08221969, -3.79051424])}"
      ]
     },
     "execution_count": 74,
     "metadata": {},
     "output_type": "execute_result"
    }
   ],
   "source": [
    "metrics = ['neg_mean_absolute_error', 'neg_mean_squared_error', 'r2']\n",
    "scores = cross_validate(LinearRegression(), X, y, scoring=metrics, cv=5)\n",
    "scores"
   ]
  },
  {
   "cell_type": "code",
   "execution_count": 75,
   "metadata": {},
   "outputs": [
    {
     "data": {
      "text/plain": [
       "['fit_time',\n",
       " 'score_time',\n",
       " 'test_neg_mean_absolute_error',\n",
       " 'test_neg_mean_squared_error',\n",
       " 'test_r2']"
      ]
     },
     "execution_count": 75,
     "metadata": {},
     "output_type": "execute_result"
    }
   ],
   "source": [
    "sorted(scores.keys())"
   ]
  },
  {
   "cell_type": "markdown",
   "metadata": {},
   "source": [
    "# Training with continuous and categorical features"
   ]
  },
  {
   "cell_type": "markdown",
   "metadata": {},
   "source": [
    "<ref: https://stackoverflow.com/questions/34007308/linear-regression-analysis-with-string-categorical-features-variables >"
   ]
  },
  {
   "cell_type": "markdown",
   "metadata": {},
   "source": [
    "<ref: https://towardsdatascience.com/simple-and-multiple-linear-regression-in-python-c928425168f9 >"
   ]
  }
 ],
 "metadata": {
  "kernelspec": {
   "display_name": "Python 3",
   "language": "python",
   "name": "python3"
  },
  "language_info": {
   "codemirror_mode": {
    "name": "ipython",
    "version": 3
   },
   "file_extension": ".py",
   "mimetype": "text/x-python",
   "name": "python",
   "nbconvert_exporter": "python",
   "pygments_lexer": "ipython3",
   "version": "3.8.1"
  }
 },
 "nbformat": 4,
 "nbformat_minor": 2
}
